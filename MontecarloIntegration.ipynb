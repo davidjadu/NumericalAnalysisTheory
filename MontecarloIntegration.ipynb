{
 "metadata": {
  "name": "",
  "signature": "sha256:de2993f1ea363e0f0f10d9fb5584649242cbaea104e5f05ce44ddffd7ba69bdf"
 },
 "nbformat": 3,
 "nbformat_minor": 0,
 "worksheets": [
  {
   "cells": [
    {
     "cell_type": "code",
     "collapsed": false,
     "input": [
      "%pylab inline"
     ],
     "language": "python",
     "metadata": {},
     "outputs": [
      {
       "output_type": "stream",
       "stream": "stdout",
       "text": [
        "Populating the interactive namespace from numpy and matplotlib\n"
       ]
      }
     ],
     "prompt_number": 1
    },
    {
     "cell_type": "markdown",
     "metadata": {},
     "source": [
      "#Integration by Montecarlo\n",
      "we intend to solve the integral\n",
      "$$\n",
      "\\int_{D_{1/4}}x^4+y^2dA\n",
      "$$\n",
      "where $$D_{1/4}$$ is the part of the unit circle in the first cuadrant.\n",
      "\n",
      "To do so, we will select $N$ arbitrary points on the box $[0,1]\\times[0,1]\\times[0,2]$ and the proportion of points which get inside the region of integration ($(x,y) \\in D_{1/4}$ and $z<x^4+y^2$) will be the same as the proportion between the value of the integral and the volume of the box.\n",
      "\n",
      "To estimate the error we make use Chebyshev's inequality, estimate the variance crudely by 9. Hence the number $N$ of points that must be used in order to get a error less or equal to $\\epsilon$ with a probability $p$ is given by\n",
      "$$\n",
      "N>\\frac{\\sigma_z^2}{(1-p)\\epsilon^2}\n",
      "$$"
     ]
    },
    {
     "cell_type": "code",
     "collapsed": false,
     "input": [
      "e=10**(-3)\n",
      "p=0.85\n",
      "variance=9"
     ],
     "language": "python",
     "metadata": {},
     "outputs": [],
     "prompt_number": 2
    },
    {
     "cell_type": "code",
     "collapsed": false,
     "input": [
      "N=floor(variance/((1-p)*e**2))+1\n",
      "print N"
     ],
     "language": "python",
     "metadata": {},
     "outputs": [
      {
       "output_type": "stream",
       "stream": "stdout",
       "text": [
        "60000000.0\n"
       ]
      }
     ],
     "prompt_number": 3
    },
    {
     "cell_type": "code",
     "collapsed": false,
     "input": [
      "x=rand(N)\n",
      "y=rand(N)\n",
      "z=2*rand(N)"
     ],
     "language": "python",
     "metadata": {},
     "outputs": [],
     "prompt_number": 4
    },
    {
     "cell_type": "code",
     "collapsed": false,
     "input": [
      "result = sum((x**2+y**2<=1) & (z<=x**4+y**2))*2.0/N"
     ],
     "language": "python",
     "metadata": {},
     "outputs": [],
     "prompt_number": 5
    },
    {
     "cell_type": "code",
     "collapsed": false,
     "input": [
      "print 'Result =', result"
     ],
     "language": "python",
     "metadata": {},
     "outputs": [
      {
       "output_type": "stream",
       "stream": "stdout",
       "text": [
        "Result = 0.2945248\n"
       ]
      }
     ],
     "prompt_number": 6
    },
    {
     "cell_type": "code",
     "collapsed": false,
     "input": [],
     "language": "python",
     "metadata": {},
     "outputs": []
    }
   ],
   "metadata": {}
  }
 ]
}